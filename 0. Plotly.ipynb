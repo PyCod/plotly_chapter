{
  "cells": [
    {
      "cell_type": "code",
      "metadata": {
        "id": "NEkpPaTJddpB",
        "colab_type": "code",
        "colab": {
          "base_uri": "https://localhost:8080/",
          "height": 374
        },
        "outputId": "613c6d65-86af-4efb-9aa7-c61dfe301597"
      },
      "source": [
        "!pip install gcsfs"
      ],
      "execution_count": null,
      "outputs": []
    },
    {
      "cell_type": "code",
      "metadata": {
        "id": "88MdNJyzMfdo",
        "colab_type": "code",
        "colab": {}
      },
      "source": [
        "import plotly.express as px\n",
        "import plotly.graph_objs as go\n",
        "import pandas as pd"
      ],
      "execution_count": null,
      "outputs": []
    },
    {
      "cell_type": "code",
      "metadata": {
        "id": "KZIATynYMfdr",
        "colab_type": "code",
        "colab": {
          "base_uri": "https://localhost:8080/",
          "height": 419
        },
        "outputId": "d2c49f41-2f4d-4189-a979-01f0b0063366"
      },
      "source": [
        "df = pd.read_csv('gs://chapter_conference/immo.csv')\n",
        "df"
      ],
      "execution_count": null,
      "outputs": []
    },
    {
      "cell_type": "markdown",
      "metadata": {
        "id": "6MSfXbNOMfdt",
        "colab_type": "text"
      },
      "source": [
        "# Simple Plots"
      ]
    },
    {
      "cell_type": "code",
      "metadata": {
        "id": "9WgjNNsJMfdu",
        "colab_type": "code",
        "colab": {
          "base_uri": "https://localhost:8080/",
          "height": 542
        },
        "outputId": "774db0e4-13d8-493a-fe83-4099664e33d5"
      },
      "source": [
        "# Plotly express is very nice when using a dataframe as its source!\n",
        "# example: add <, color='Bedrooms'>\n",
        "fig = px.histogram(df, x='Monthly rental price')\n",
        "fig.update_layout(title='Monthly rental price')\n",
        "fig.show()"
      ],
      "execution_count": null,
      "outputs": []
    },
    {
      "cell_type": "code",
      "metadata": {
        "id": "5MAVo0oEMfdw",
        "colab_type": "code",
        "colab": {
          "base_uri": "https://localhost:8080/",
          "height": 542
        },
        "outputId": "921e9bfd-18d0-4cfb-bb79-b8dcb29b7d25"
      },
      "source": [
        "# If not you can always use normal plotly. Just a little more code\n",
        "hist = go.Histogram(x=df['Monthly rental price'])\n",
        "fig = go.Figure(data = [hist])\n",
        "fig.show()"
      ],
      "execution_count": null,
      "outputs": []
    },
    {
      "cell_type": "code",
      "metadata": {
        "id": "ONdrb2oUMfdy",
        "colab_type": "code",
        "colab": {
          "base_uri": "https://localhost:8080/",
          "height": 542
        },
        "outputId": "da5ef161-5afb-4b09-c223-8ad00b25a476"
      },
      "source": [
        "fig = px.scatter(df, x='Monthly rental price', y='Bedrooms', hover_data=['Living area', 'lat', 'lon'])\n",
        "fig.update_layout(title='Bedrooms x Rental')\n",
        "fig.show()"
      ],
      "execution_count": null,
      "outputs": []
    },
    {
      "cell_type": "markdown",
      "metadata": {
        "id": "cs1HOUblMfd0",
        "colab_type": "text"
      },
      "source": [
        "# More advanced stuff"
      ]
    },
    {
      "cell_type": "code",
      "metadata": {
        "id": "YJsvDs-RMfd1",
        "colab_type": "code",
        "colab": {
          "base_uri": "https://localhost:8080/",
          "height": 542
        },
        "outputId": "0453d64a-3134-412b-ad57-4802de67af70"
      },
      "source": [
        "fig = px.scatter_mapbox(df, lat=\"lat\", lon=\"lon\", color=\"Monthly rental price\", size=\"Living area\",\n",
        "                        color_continuous_scale=px.colors.sequential.Viridis, size_max=15, zoom=12)\n",
        "fig.update_layout(mapbox_style=\"open-street-map\")\n",
        "fig.show()"
      ],
      "execution_count": null,
      "outputs": []
    },
    {
      "cell_type": "markdown",
      "metadata": {
        "id": "cq1MPgG8Mfd3",
        "colab_type": "text"
      },
      "source": [
        "# Time series!"
      ]
    },
    {
      "cell_type": "code",
      "metadata": {
        "id": "w6tyAttqMfd3",
        "colab_type": "code",
        "colab": {
          "base_uri": "https://localhost:8080/",
          "height": 419
        },
        "outputId": "a72eda1c-89fc-46b4-b19e-a3e39d5343be"
      },
      "source": [
        "# These are accelerometer readings from when we went to Phantasialand with ML6!\n",
        "# The quality is quite bad though\n",
        "# The data is structured as follows:\n",
        "# - Black Mamba\n",
        "#  \\- Accelerometer.csv\n",
        "#  \\- Gyroscope.csv\n",
        "# - Mystery Castle\n",
        "#  \\- Accelerometer.csv\n",
        "# - Raik\n",
        "#  \\- Accelerometer.csv\n",
        "#  \\- Gyroscope.csv\n",
        "# - Taron (Coolest ride for sure)\n",
        "#  \\- Accelerometer.csv\n",
        "#  \\- Gyroscope.csv\n",
        "\n",
        "df = pd.read_csv('gs://chapter_conference/Taron/Accelerometer.csv')\n",
        "df"
      ],
      "execution_count": null,
      "outputs": []
    },
    {
      "cell_type": "code",
      "metadata": {
        "id": "-8-gVfIhMfd5",
        "colab_type": "code",
        "colab": {
          "base_uri": "https://localhost:8080/",
          "height": 542
        },
        "outputId": "6439bda2-9400-4ba5-ccbf-7e4ae0ced46e"
      },
      "source": [
        "fig = px.line(df, x='Timestamp', y='X', title='Phantasialand Accelerometer')\n",
        "fig.show()"
      ],
      "execution_count": null,
      "outputs": []
    },
    {
      "cell_type": "code",
      "metadata": {
        "id": "-omEYXZrMfd7",
        "colab_type": "code",
        "colab": {
          "base_uri": "https://localhost:8080/",
          "height": 542
        },
        "outputId": "40c140ca-6638-4875-feb9-ea70d6d2d46b"
      },
      "source": [
        "# ScatterGL is very fast for lots of points\n",
        "# Their website (https://plotly.com/python/webgl-vs-svg/)\n",
        "# shows a comparison where they plot 1 million points wihtout stutters!\n",
        "fig = go.Figure()\n",
        "fig.add_trace(go.Scattergl(x=df['Milliseconds'], y=df['X'],\n",
        "                         mode='lines',\n",
        "                         name='X'))\n",
        "fig.add_trace(go.Scattergl(x=df['Milliseconds'], y=df['Y'],\n",
        "                         mode='lines',\n",
        "                         name='Y'))\n",
        "fig.add_trace(go.Scattergl(x=df['Milliseconds'], y=df['Z'],\n",
        "                         mode='lines',\n",
        "                         name='Z'))\n",
        "\n",
        "fig.show()"
      ],
      "execution_count": null,
      "outputs": []
    },
    {
      "cell_type": "code",
      "metadata": {
        "id": "-MPDZ3UpNdng",
        "colab_type": "code",
        "colab": {
          "base_uri": "https://localhost:8080/",
          "height": 542
        },
        "outputId": "8897fef2-a6cb-464d-8249-0748d0e0a9f6"
      },
      "source": [
        "# Load data\n",
        "df = pd.read_csv(\n",
        "    \"https://raw.githubusercontent.com/plotly/datasets/master/finance-charts-apple.csv\")\n",
        "df.columns = [col.replace(\"AAPL.\", \"\") for col in df.columns]\n",
        "\n",
        "# Create figure\n",
        "fig = go.Figure()\n",
        "\n",
        "fig.add_trace(\n",
        "    go.Scatter(x=list(df.Date), y=list(df.High)))\n",
        "\n",
        "# Set title\n",
        "fig.update_layout(\n",
        "    title_text=\"Time series with range slider and selectors\"\n",
        ")\n",
        "\n",
        "# Add range slider\n",
        "fig.update_layout(\n",
        "    xaxis=dict(\n",
        "        rangeselector=dict(\n",
        "            buttons=list([\n",
        "                dict(count=1,\n",
        "                     label=\"1m\",\n",
        "                     step=\"month\",\n",
        "                     stepmode=\"backward\"),\n",
        "                dict(count=6,\n",
        "                     label=\"6m\",\n",
        "                     step=\"month\",\n",
        "                     stepmode=\"backward\"),\n",
        "                dict(count=1,\n",
        "                     label=\"YTD\",\n",
        "                     step=\"year\",\n",
        "                     stepmode=\"todate\"),\n",
        "                dict(count=1,\n",
        "                     label=\"1y\",\n",
        "                     step=\"year\",\n",
        "                     stepmode=\"backward\"),\n",
        "                dict(step=\"all\")\n",
        "            ])\n",
        "        ),\n",
        "        rangeslider=dict(\n",
        "            visible=True\n",
        "        ),\n",
        "        type=\"date\"\n",
        "    )\n",
        ")\n",
        "\n",
        "fig.show()"
      ],
      "execution_count": null,
      "outputs": []
    },
    {
      "cell_type": "markdown",
      "metadata": {
        "id": "FtccpmSWMfd9",
        "colab_type": "text"
      },
      "source": [
        "# For more check https://plotly.com/python/plotly-express/"
      ]
    }
  ],
  "metadata": {
    "kernelspec": {
      "display_name": "Python 3.6.10 64-bit ('immo': venv)",
      "language": "python",
      "name": "python361064bitimmovenv72400f0fe6484ab0a0a8757524f2ee9f"
    },
    "language_info": {
      "codemirror_mode": {
        "name": "ipython",
        "version": 3
      },
      "file_extension": ".py",
      "mimetype": "text/x-python",
      "name": "python",
      "nbconvert_exporter": "python",
      "pygments_lexer": "ipython3",
      "version": "3.6.10-final"
    },
    "colab": {
      "name": "Chapter Conference.ipynb",
      "provenance": [],
      "collapsed_sections": [],
      "toc_visible": true
    }
  },
  "nbformat": 4,
  "nbformat_minor": 0
}